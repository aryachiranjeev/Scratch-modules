{
  "nbformat": 4,
  "nbformat_minor": 0,
  "metadata": {
    "colab": {
      "name": "PCA.ipynb",
      "provenance": [],
      "collapsed_sections": []
    },
    "kernelspec": {
      "name": "python3",
      "display_name": "Python 3"
    },
    "language_info": {
      "name": "python"
    }
  },
  "cells": [
    {
      "cell_type": "code",
      "metadata": {
        "id": "K-JA7MKM27NW"
      },
      "source": [
        "import matplotlib.pyplot as plt\n",
        "import numpy as np\n",
        "import pandas as pd\n",
        "import seaborn as sns"
      ],
      "execution_count": 3,
      "outputs": []
    },
    {
      "cell_type": "code",
      "metadata": {
        "id": "kBYbvN1y3L0X"
      },
      "source": [
        "# from sklearn.datasets import load_boston\n",
        "# X,Y=load_boston(return_X_y=True)\n",
        "from sklearn.datasets import load_wine\n",
        "X,Y=load_wine(return_X_y=True)"
      ],
      "execution_count": 1,
      "outputs": []
    },
    {
      "cell_type": "code",
      "metadata": {
        "colab": {
          "base_uri": "https://localhost:8080/"
        },
        "id": "-8iQW2sH3NHO",
        "outputId": "d417dbbe-36e4-4efa-e6d9-bfbc4b09efae"
      },
      "source": [
        "print(X.shape)\n",
        "print(Y.shape)"
      ],
      "execution_count": 2,
      "outputs": [
        {
          "output_type": "stream",
          "text": [
            "(178, 13)\n",
            "(178,)\n"
          ],
          "name": "stdout"
        }
      ]
    },
    {
      "cell_type": "code",
      "metadata": {
        "id": "WzYw0m68SoFG"
      },
      "source": [
        "def normalize(X):\n",
        "  for i in range(0,X.shape[1]):\n",
        "    X[:,i] = (X[:,i] - np.mean(X[:,i]))\n",
        "  return X"
      ],
      "execution_count": 4,
      "outputs": []
    },
    {
      "cell_type": "code",
      "metadata": {
        "id": "CQcNjBplSs3d"
      },
      "source": [
        "X=normalize(X)"
      ],
      "execution_count": 5,
      "outputs": []
    },
    {
      "cell_type": "code",
      "metadata": {
        "id": "ZcHIJJq33PbF"
      },
      "source": [
        "def find_covariance(X):\n",
        "  covariance_matrix=np.zeros((X.shape[1],X.shape[1]))\n",
        "  mean_features=[X[:,j].sum(axis=0)/len(X) for j in range(X.shape[1])]\n",
        "  # print(mean_features)\n",
        "  \n",
        "  def covariance_calculation_formula(vecX,vecY,X_mean,Y_mean):\n",
        "    numerator=np.sum((np.array(vecX)-X_mean)*(np.array(vecY)-Y_mean))\n",
        "    denominator=len(X)\n",
        "    # denominator=np.sqrt(np.sum((np.array(vecX)-X_mean)**2) * np.sum((np.array(vecY)-Y_mean)**2))\n",
        "    covariance_coff=numerator/denominator\n",
        "    return covariance_coff\n",
        "\n",
        "  for i in range(len(covariance_matrix)):\n",
        "    for j in range(len(covariance_matrix)):\n",
        "      covariance_matrix[i][j]=covariance_calculation_formula(X[:,i],X[:,j],mean_features[i],mean_features[j])\n",
        "  # print(covariance_matrix)\n",
        "  return covariance_matrix \n",
        "\n",
        "cov_matrix=find_covariance(X)"
      ],
      "execution_count": 6,
      "outputs": []
    },
    {
      "cell_type": "code",
      "metadata": {
        "colab": {
          "base_uri": "https://localhost:8080/"
        },
        "id": "a0ylOz-R4bNy",
        "outputId": "26b2018a-500d-48bc-cc6a-3da3386cdf27"
      },
      "source": [
        "cov_matrix.shape"
      ],
      "execution_count": 7,
      "outputs": [
        {
          "output_type": "execute_result",
          "data": {
            "text/plain": [
              "(13, 13)"
            ]
          },
          "metadata": {
            "tags": []
          },
          "execution_count": 7
        }
      ]
    },
    {
      "cell_type": "code",
      "metadata": {
        "colab": {
          "base_uri": "https://localhost:8080/",
          "height": 265
        },
        "id": "Ni859D6x4eaE",
        "outputId": "0fec3bcf-625d-4665-d915-f22557f86e5f"
      },
      "source": [
        "ax = sns.heatmap(cov_matrix , linewidth = 0.5 ,annot=False)"
      ],
      "execution_count": 8,
      "outputs": [
        {
          "output_type": "display_data",
          "data": {
            "image/png": "[encoded data removed]",
            "text/plain": [
              "<Figure size 432x288 with 2 Axes>"
            ]
          },
          "metadata": {
            "tags": [],
            "needs_background": "light"
          }
        }
      ]
    },
    {
      "cell_type": "code",
      "metadata": {
        "id": "hgtGYJM54l6G"
      },
      "source": [
        "from numpy.linalg import eig\n",
        "eig_values, eig_vectors = eig(cov_matrix)"
      ],
      "execution_count": 9,
      "outputs": []
    },
    {
      "cell_type": "code",
      "metadata": {
        "colab": {
          "base_uri": "https://localhost:8080/"
        },
        "id": "xBRPD7Xg4wI_",
        "outputId": "fe8c91fb-36b1-4964-a380-b1f1c8364461"
      },
      "source": [
        "eig_values,eig_vectors"
      ],
      "execution_count": 10,
      "outputs": [
        {
          "output_type": "execute_result",
          "data": {
            "text/plain": [
              "(array([9.86444761e+04, 1.71565967e+02, 9.38509059e+00, 4.96313828e+00,\n",
              "        1.22194160e+00, 8.36338792e-01, 2.77406256e-01, 1.50530810e-01,\n",
              "        1.11467008e-01, 8.15761492e-03, 2.09539821e-02, 3.73648779e-02,\n",
              "        7.12997795e-02]),\n",
              " array([[-1.65926472e-03, -1.20340617e-03,  1.68738094e-02,\n",
              "          1.41446778e-01, -2.03369773e-02,  1.94120104e-01,\n",
              "         -9.23280337e-01,  2.84820658e-01,  8.66006124e-02,\n",
              "          8.02924535e-03,  1.56514071e-02, -1.49715080e-02,\n",
              "         -2.24499994e-03],\n",
              "        [ 6.81015556e-04, -2.15498184e-03,  1.22003373e-01,\n",
              "          1.60389543e-01,  6.12883454e-01,  7.42472963e-01,\n",
              "          1.50109941e-01, -6.46744678e-02,  1.56621385e-02,\n",
              "         -1.10903923e-02, -6.72955455e-02, -2.31876506e-02,\n",
              "         -1.85093501e-02],\n",
              "        [-1.94905742e-04, -4.59369254e-03,  5.19874304e-02,\n",
              "         -9.77280992e-03, -2.01755752e-02,  4.17529118e-02,\n",
              "         -4.50095493e-02, -1.49339532e-01,  7.36498524e-02,\n",
              "         -1.73685673e-01,  1.32063034e-01,  9.54010643e-01,\n",
              "         -8.67996529e-02],\n",
              "        [ 4.67130058e-03, -2.64503930e-02,  9.38593003e-01,\n",
              "         -3.30965260e-01, -6.43523403e-02, -2.40653026e-02,\n",
              "         -3.15265835e-02,  1.51539118e-02,  2.04457785e-03,\n",
              "          1.93956297e-03, -5.39380582e-03, -5.28216953e-02,\n",
              "          3.55402799e-03],\n",
              "        [-1.78680075e-02, -9.99344186e-01, -2.97802484e-02,\n",
              "         -5.39375605e-03,  6.14934472e-03, -1.92378154e-03,\n",
              "         -1.79736268e-03, -3.55221241e-03, -1.96366816e-03,\n",
              "          2.28453582e-03, -6.20888455e-04, -3.02488821e-03,\n",
              "         -4.05154189e-05],\n",
              "        [-9.89829680e-04, -8.77962152e-04, -4.04846439e-02,\n",
              "         -7.45846556e-02, -3.15245063e-01,  2.78716809e-01,\n",
              "          2.01857100e-02, -1.77237945e-01,  2.55672918e-01,\n",
              "         -2.66914407e-02, -3.88290281e-03,  8.80160701e-03,\n",
              "          8.47195073e-01],\n",
              "        [-1.56728830e-03,  5.18507284e-05, -8.54433387e-02,\n",
              "         -1.69086724e-01, -5.24761088e-01,  4.33597955e-01,\n",
              "          3.88685182e-02, -2.48116635e-01,  3.78306653e-01,\n",
              "          6.95985330e-02,  3.74880307e-02, -1.33204612e-01,\n",
              "         -5.20138389e-01],\n",
              "        [ 1.23086662e-04,  1.35447892e-03,  1.35107797e-02,\n",
              "          1.08055610e-02,  2.96475124e-02, -2.19528343e-02,\n",
              "          4.66548296e-03,  6.49796752e-03,  3.67520428e-02,\n",
              "          9.66466227e-01, -1.47552442e-01,  1.99178984e-01,\n",
              "          3.77131942e-02],\n",
              "        [-6.00607792e-04, -5.00440040e-03, -2.46593824e-02,\n",
              "         -5.01209524e-02, -2.51182529e-01,  2.41884488e-01,\n",
              "          3.09799487e-01,  8.70433157e-01, -5.15201690e-02,\n",
              "         -1.76035672e-02,  1.31188252e-02,  1.35621460e-01,\n",
              "          9.72275203e-03],\n",
              "        [-2.32714319e-03, -1.51003530e-02,  2.91398464e-01,\n",
              "          8.78893693e-01, -3.31747051e-01,  2.73960896e-03,\n",
              "          1.12836514e-01, -8.12869205e-02, -9.90290846e-02,\n",
              "         -4.63294250e-03, -5.03555691e-02, -9.81967171e-03,\n",
              "         -2.31471169e-02],\n",
              "        [-1.71380037e-04,  7.62673115e-04, -2.59776624e-02,\n",
              "         -6.00349446e-02, -5.15240771e-02, -2.37761666e-02,\n",
              "         -3.08198127e-02, -2.95190435e-03,  3.30651238e-02,\n",
              "         -1.66550828e-01, -9.75561893e-01,  9.75106606e-02,\n",
              "         -3.84698250e-02],\n",
              "        [-7.04931645e-04,  3.49536431e-03, -7.03239693e-02,\n",
              "         -1.78200254e-01, -2.60639176e-01,  2.88912753e-01,\n",
              "         -1.01973518e-01, -1.86714531e-01, -8.73746543e-01,\n",
              "          4.41922433e-02, -1.16302516e-02,  2.84851062e-02,\n",
              "          1.70170830e-02],\n",
              "        [-9.99822937e-01,  1.77738095e-02,  4.52868159e-03,\n",
              "         -3.11291570e-03,  2.29856939e-03, -1.21225507e-03,\n",
              "          1.07618923e-03,  1.03409482e-05, -7.25585209e-05,\n",
              "          3.62670135e-05,  9.99995129e-05, -2.40452216e-04,\n",
              "          4.92663809e-05]]))"
            ]
          },
          "metadata": {
            "tags": []
          },
          "execution_count": 10
        }
      ]
    },
    {
      "cell_type": "code",
      "metadata": {
        "id": "uGQSnDZNAkdu"
      },
      "source": [
        "val_vec_dict=dict()\n",
        "for i in range(len(eig_values)):\n",
        "  val_vec_dict[eig_values[i]] = eig_vectors[i]\n"
      ],
      "execution_count": 11,
      "outputs": []
    },
    {
      "cell_type": "code",
      "metadata": {
        "colab": {
          "base_uri": "https://localhost:8080/"
        },
        "id": "mxoIO5V0F9Tg",
        "outputId": "5de12bab-3923-4539-b8cc-7ed6f93abac0"
      },
      "source": [
        "sorted_eigen_values = sorted(eig_values,reverse=True)\n",
        "\n",
        "k = 6\n",
        "Ureduce = []\n",
        "k_eigen_values_taken = []\n",
        "\n",
        "for i in range(0,k):\n",
        "  k_eigen_values_taken.append(sorted_eigen_values[i])\n",
        "  Ureduce.append(val_vec_dict[sorted_eigen_values[i]])\n",
        "\n",
        "Ureduce=np.array(Ureduce)\n",
        "print(\"eigen_values_taken:\",k_eigen_values_taken)\n",
        "print(Ureduce)\n",
        "print(Ureduce.shape)\n",
        "print(X.T.shape)\n",
        "\n",
        "\n",
        "\n",
        "# Data Projection \n",
        "\n",
        "Z = np.matmul(Ureduce,X.T)\n",
        "Z.shape"
      ],
      "execution_count": 32,
      "outputs": [
        {
          "output_type": "stream",
          "text": [
            "eigen_values_taken: [98644.47609322546, 171.56596722801575, 9.385090592776987, 4.963138278385492, 1.2219416034929549, 0.8363387915368964]\n",
            "[[-1.65926472e-03 -1.20340617e-03  1.68738094e-02  1.41446778e-01\n",
            "  -2.03369773e-02  1.94120104e-01 -9.23280337e-01  2.84820658e-01\n",
            "   8.66006124e-02  8.02924535e-03  1.56514071e-02 -1.49715080e-02\n",
            "  -2.24499994e-03]\n",
            " [ 6.81015556e-04 -2.15498184e-03  1.22003373e-01  1.60389543e-01\n",
            "   6.12883454e-01  7.42472963e-01  1.50109941e-01 -6.46744678e-02\n",
            "   1.56621385e-02 -1.10903923e-02 -6.72955455e-02 -2.31876506e-02\n",
            "  -1.85093501e-02]\n",
            " [-1.94905742e-04 -4.59369254e-03  5.19874304e-02 -9.77280992e-03\n",
            "  -2.01755752e-02  4.17529118e-02 -4.50095493e-02 -1.49339532e-01\n",
            "   7.36498524e-02 -1.73685673e-01  1.32063034e-01  9.54010643e-01\n",
            "  -8.67996529e-02]\n",
            " [ 4.67130058e-03 -2.64503930e-02  9.38593003e-01 -3.30965260e-01\n",
            "  -6.43523403e-02 -2.40653026e-02 -3.15265835e-02  1.51539118e-02\n",
            "   2.04457785e-03  1.93956297e-03 -5.39380582e-03 -5.28216953e-02\n",
            "   3.55402799e-03]\n",
            " [-1.78680075e-02 -9.99344186e-01 -2.97802484e-02 -5.39375605e-03\n",
            "   6.14934472e-03 -1.92378154e-03 -1.79736268e-03 -3.55221241e-03\n",
            "  -1.96366816e-03  2.28453582e-03 -6.20888455e-04 -3.02488821e-03\n",
            "  -4.05154189e-05]\n",
            " [-9.89829680e-04 -8.77962152e-04 -4.04846439e-02 -7.45846556e-02\n",
            "  -3.15245063e-01  2.78716809e-01  2.01857100e-02 -1.77237945e-01\n",
            "   2.55672918e-01 -2.66914407e-02 -3.88290281e-03  8.80160701e-03\n",
            "   8.47195073e-01]]\n",
            "(6, 13)\n",
            "(13, 178)\n"
          ],
          "name": "stdout"
        },
        {
          "output_type": "execute_result",
          "data": {
            "text/plain": [
              "(6, 178)"
            ]
          },
          "metadata": {
            "tags": []
          },
          "execution_count": 32
        }
      ]
    },
    {
      "cell_type": "markdown",
      "metadata": {
        "id": "e5YQ0KFaOZei"
      },
      "source": [
        "# Reconstruction Phase"
      ]
    },
    {
      "cell_type": "code",
      "metadata": {
        "id": "i1J10YYUOXXl"
      },
      "source": [
        "X_approx = np.matmul(Ureduce.T,Z) "
      ],
      "execution_count": 33,
      "outputs": []
    },
    {
      "cell_type": "code",
      "metadata": {
        "colab": {
          "base_uri": "https://localhost:8080/"
        },
        "id": "04ovce7DMN0A",
        "outputId": "bfdb7a04-4f0b-4134-a4b9-5b9ff82df108"
      },
      "source": [
        "X_approx.shape"
      ],
      "execution_count": 34,
      "outputs": [
        {
          "output_type": "execute_result",
          "data": {
            "text/plain": [
              "(13, 178)"
            ]
          },
          "metadata": {
            "tags": []
          },
          "execution_count": 34
        }
      ]
    },
    {
      "cell_type": "markdown",
      "metadata": {
        "id": "2JT16QE4O-am"
      },
      "source": [
        "# Variance Retained"
      ]
    },
    {
      "cell_type": "code",
      "metadata": {
        "id": "3WLtscq6Ibzl"
      },
      "source": [
        "average_squarred_projection_error = ((np.linalg.norm(X.T - X_approx))**2)/len(X)\n",
        "\n",
        "total_variance_in_data = ((np.linalg.norm(X.T))**2)/len(X)\n",
        "\n",
        "Variance_retained = (1-(average_squarred_projection_error / total_variance_in_data))*100"
      ],
      "execution_count": 35,
      "outputs": []
    },
    {
      "cell_type": "code",
      "metadata": {
        "colab": {
          "base_uri": "https://localhost:8080/"
        },
        "id": "zPhTVoqhRD7M",
        "outputId": "90b6ac51-a647-4559-cfa7-fd400c272a46"
      },
      "source": [
        "print(\"Variance_retained:\",Variance_retained,\"%\")"
      ],
      "execution_count": 36,
      "outputs": [
        {
          "output_type": "stream",
          "text": [
            "Variance_retained: 71.64199887529186 %\n"
          ],
          "name": "stdout"
        }
      ]
    },
    {
      "cell_type": "code",
      "metadata": {
        "id": "5ZsnepfRR8Iy"
      },
      "source": [
        ""
      ],
      "execution_count": null,
      "outputs": []
    }
  ]
}