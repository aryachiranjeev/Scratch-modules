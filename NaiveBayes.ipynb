{
  "nbformat": 4,
  "nbformat_minor": 0,
  "metadata": {
    "colab": {
      "name": "NaiveBayes.ipynb",
      "provenance": [],
      "collapsed_sections": []
    },
    "kernelspec": {
      "name": "python3",
      "display_name": "Python 3"
    },
    "language_info": {
      "name": "python"
    }
  },
  "cells": [
    {
      "cell_type": "code",
      "metadata": {
        "id": "4yGg67oVCgKb"
      },
      "source": [
        "import matplotlib.pyplot as plt\n",
        "import numpy as np\n",
        "import pandas as pd\n",
        "import seaborn as sns"
      ],
      "execution_count": 98,
      "outputs": []
    },
    {
      "cell_type": "code",
      "metadata": {
        "id": "nFgK4ss6C2Rf"
      },
      "source": [
        "from sklearn.datasets import load_wine\n",
        "X,Y = load_wine(return_X_y=True)\n",
        "\n",
        "# from sklearn.datasets import load_breast_cancer\n",
        "# X,Y = load_breast_cancer(return_X_y=True)"
      ],
      "execution_count": 99,
      "outputs": []
    },
    {
      "cell_type": "code",
      "metadata": {
        "colab": {
          "base_uri": "https://localhost:8080/"
        },
        "id": "on2qIfEEC5gZ",
        "outputId": "066b1f4c-b9f6-4bbf-fe94-25a686f9f60b"
      },
      "source": [
        "print(X.shape)\n",
        "print(Y.shape)"
      ],
      "execution_count": 100,
      "outputs": [
        {
          "output_type": "stream",
          "text": [
            "(178, 13)\n",
            "(178,)\n"
          ],
          "name": "stdout"
        }
      ]
    },
    {
      "cell_type": "code",
      "metadata": {
        "colab": {
          "base_uri": "https://localhost:8080/",
          "height": 424
        },
        "id": "k7WKriiwC7zh",
        "outputId": "00804edd-41fd-4666-e524-4ee1dd2043f4"
      },
      "source": [
        "pd.DataFrame(X)"
      ],
      "execution_count": 101,
      "outputs": [
        {
          "output_type": "execute_result",
          "data": {
            "text/html": [
              "<div>\n",
              "<style scoped>\n",
              "    .dataframe tbody tr th:only-of-type {\n",
              "        vertical-align: middle;\n",
              "    }\n",
              "\n",
              "    .dataframe tbody tr th {\n",
              "        vertical-align: top;\n",
              "    }\n",
              "\n",
              "    .dataframe thead th {\n",
              "        text-align: right;\n",
              "    }\n",
              "</style>\n",
              "<table border=\"1\" class=\"dataframe\">\n",
              "  <thead>\n",
              "    <tr style=\"text-align: right;\">\n",
              "      <th></th>\n",
              "      <th>0</th>\n",
              "      <th>1</th>\n",
              "      <th>2</th>\n",
              "      <th>3</th>\n",
              "      <th>4</th>\n",
              "      <th>5</th>\n",
              "      <th>6</th>\n",
              "      <th>7</th>\n",
              "      <th>8</th>\n",
              "      <th>9</th>\n",
              "      <th>10</th>\n",
              "      <th>11</th>\n",
              "      <th>12</th>\n",
              "    </tr>\n",
              "  </thead>\n",
              "  <tbody>\n",
              "    <tr>\n",
              "      <th>0</th>\n",
              "      <td>14.23</td>\n",
              "      <td>1.71</td>\n",
              "      <td>2.43</td>\n",
              "      <td>15.6</td>\n",
              "      <td>127.0</td>\n",
              "      <td>2.80</td>\n",
              "      <td>3.06</td>\n",
              "      <td>0.28</td>\n",
              "      <td>2.29</td>\n",
              "      <td>5.64</td>\n",
              "      <td>1.04</td>\n",
              "      <td>3.92</td>\n",
              "      <td>1065.0</td>\n",
              "    </tr>\n",
              "    <tr>\n",
              "      <th>1</th>\n",
              "      <td>13.20</td>\n",
              "      <td>1.78</td>\n",
              "      <td>2.14</td>\n",
              "      <td>11.2</td>\n",
              "      <td>100.0</td>\n",
              "      <td>2.65</td>\n",
              "      <td>2.76</td>\n",
              "      <td>0.26</td>\n",
              "      <td>1.28</td>\n",
              "      <td>4.38</td>\n",
              "      <td>1.05</td>\n",
              "      <td>3.40</td>\n",
              "      <td>1050.0</td>\n",
              "    </tr>\n",
              "    <tr>\n",
              "      <th>2</th>\n",
              "      <td>13.16</td>\n",
              "      <td>2.36</td>\n",
              "      <td>2.67</td>\n",
              "      <td>18.6</td>\n",
              "      <td>101.0</td>\n",
              "      <td>2.80</td>\n",
              "      <td>3.24</td>\n",
              "      <td>0.30</td>\n",
              "      <td>2.81</td>\n",
              "      <td>5.68</td>\n",
              "      <td>1.03</td>\n",
              "      <td>3.17</td>\n",
              "      <td>1185.0</td>\n",
              "    </tr>\n",
              "    <tr>\n",
              "      <th>3</th>\n",
              "      <td>14.37</td>\n",
              "      <td>1.95</td>\n",
              "      <td>2.50</td>\n",
              "      <td>16.8</td>\n",
              "      <td>113.0</td>\n",
              "      <td>3.85</td>\n",
              "      <td>3.49</td>\n",
              "      <td>0.24</td>\n",
              "      <td>2.18</td>\n",
              "      <td>7.80</td>\n",
              "      <td>0.86</td>\n",
              "      <td>3.45</td>\n",
              "      <td>1480.0</td>\n",
              "    </tr>\n",
              "    <tr>\n",
              "      <th>4</th>\n",
              "      <td>13.24</td>\n",
              "      <td>2.59</td>\n",
              "      <td>2.87</td>\n",
              "      <td>21.0</td>\n",
              "      <td>118.0</td>\n",
              "      <td>2.80</td>\n",
              "      <td>2.69</td>\n",
              "      <td>0.39</td>\n",
              "      <td>1.82</td>\n",
              "      <td>4.32</td>\n",
              "      <td>1.04</td>\n",
              "      <td>2.93</td>\n",
              "      <td>735.0</td>\n",
              "    </tr>\n",
              "    <tr>\n",
              "      <th>...</th>\n",
              "      <td>...</td>\n",
              "      <td>...</td>\n",
              "      <td>...</td>\n",
              "      <td>...</td>\n",
              "      <td>...</td>\n",
              "      <td>...</td>\n",
              "      <td>...</td>\n",
              "      <td>...</td>\n",
              "      <td>...</td>\n",
              "      <td>...</td>\n",
              "      <td>...</td>\n",
              "      <td>...</td>\n",
              "      <td>...</td>\n",
              "    </tr>\n",
              "    <tr>\n",
              "      <th>173</th>\n",
              "      <td>13.71</td>\n",
              "      <td>5.65</td>\n",
              "      <td>2.45</td>\n",
              "      <td>20.5</td>\n",
              "      <td>95.0</td>\n",
              "      <td>1.68</td>\n",
              "      <td>0.61</td>\n",
              "      <td>0.52</td>\n",
              "      <td>1.06</td>\n",
              "      <td>7.70</td>\n",
              "      <td>0.64</td>\n",
              "      <td>1.74</td>\n",
              "      <td>740.0</td>\n",
              "    </tr>\n",
              "    <tr>\n",
              "      <th>174</th>\n",
              "      <td>13.40</td>\n",
              "      <td>3.91</td>\n",
              "      <td>2.48</td>\n",
              "      <td>23.0</td>\n",
              "      <td>102.0</td>\n",
              "      <td>1.80</td>\n",
              "      <td>0.75</td>\n",
              "      <td>0.43</td>\n",
              "      <td>1.41</td>\n",
              "      <td>7.30</td>\n",
              "      <td>0.70</td>\n",
              "      <td>1.56</td>\n",
              "      <td>750.0</td>\n",
              "    </tr>\n",
              "    <tr>\n",
              "      <th>175</th>\n",
              "      <td>13.27</td>\n",
              "      <td>4.28</td>\n",
              "      <td>2.26</td>\n",
              "      <td>20.0</td>\n",
              "      <td>120.0</td>\n",
              "      <td>1.59</td>\n",
              "      <td>0.69</td>\n",
              "      <td>0.43</td>\n",
              "      <td>1.35</td>\n",
              "      <td>10.20</td>\n",
              "      <td>0.59</td>\n",
              "      <td>1.56</td>\n",
              "      <td>835.0</td>\n",
              "    </tr>\n",
              "    <tr>\n",
              "      <th>176</th>\n",
              "      <td>13.17</td>\n",
              "      <td>2.59</td>\n",
              "      <td>2.37</td>\n",
              "      <td>20.0</td>\n",
              "      <td>120.0</td>\n",
              "      <td>1.65</td>\n",
              "      <td>0.68</td>\n",
              "      <td>0.53</td>\n",
              "      <td>1.46</td>\n",
              "      <td>9.30</td>\n",
              "      <td>0.60</td>\n",
              "      <td>1.62</td>\n",
              "      <td>840.0</td>\n",
              "    </tr>\n",
              "    <tr>\n",
              "      <th>177</th>\n",
              "      <td>14.13</td>\n",
              "      <td>4.10</td>\n",
              "      <td>2.74</td>\n",
              "      <td>24.5</td>\n",
              "      <td>96.0</td>\n",
              "      <td>2.05</td>\n",
              "      <td>0.76</td>\n",
              "      <td>0.56</td>\n",
              "      <td>1.35</td>\n",
              "      <td>9.20</td>\n",
              "      <td>0.61</td>\n",
              "      <td>1.60</td>\n",
              "      <td>560.0</td>\n",
              "    </tr>\n",
              "  </tbody>\n",
              "</table>\n",
              "<p>178 rows × 13 columns</p>\n",
              "</div>"
            ],
            "text/plain": [
              "        0     1     2     3      4   ...    8      9     10    11      12\n",
              "0    14.23  1.71  2.43  15.6  127.0  ...  2.29   5.64  1.04  3.92  1065.0\n",
              "1    13.20  1.78  2.14  11.2  100.0  ...  1.28   4.38  1.05  3.40  1050.0\n",
              "2    13.16  2.36  2.67  18.6  101.0  ...  2.81   5.68  1.03  3.17  1185.0\n",
              "3    14.37  1.95  2.50  16.8  113.0  ...  2.18   7.80  0.86  3.45  1480.0\n",
              "4    13.24  2.59  2.87  21.0  118.0  ...  1.82   4.32  1.04  2.93   735.0\n",
              "..     ...   ...   ...   ...    ...  ...   ...    ...   ...   ...     ...\n",
              "173  13.71  5.65  2.45  20.5   95.0  ...  1.06   7.70  0.64  1.74   740.0\n",
              "174  13.40  3.91  2.48  23.0  102.0  ...  1.41   7.30  0.70  1.56   750.0\n",
              "175  13.27  4.28  2.26  20.0  120.0  ...  1.35  10.20  0.59  1.56   835.0\n",
              "176  13.17  2.59  2.37  20.0  120.0  ...  1.46   9.30  0.60  1.62   840.0\n",
              "177  14.13  4.10  2.74  24.5   96.0  ...  1.35   9.20  0.61  1.60   560.0\n",
              "\n",
              "[178 rows x 13 columns]"
            ]
          },
          "metadata": {
            "tags": []
          },
          "execution_count": 101
        }
      ]
    },
    {
      "cell_type": "code",
      "metadata": {
        "colab": {
          "base_uri": "https://localhost:8080/"
        },
        "id": "T7lWwql3C-3a",
        "outputId": "21907d6c-5ace-4214-a0cf-e10781955363"
      },
      "source": [
        "Y"
      ],
      "execution_count": 102,
      "outputs": [
        {
          "output_type": "execute_result",
          "data": {
            "text/plain": [
              "array([0, 0, 0, 0, 0, 0, 0, 0, 0, 0, 0, 0, 0, 0, 0, 0, 0, 0, 0, 0, 0, 0,\n",
              "       0, 0, 0, 0, 0, 0, 0, 0, 0, 0, 0, 0, 0, 0, 0, 0, 0, 0, 0, 0, 0, 0,\n",
              "       0, 0, 0, 0, 0, 0, 0, 0, 0, 0, 0, 0, 0, 0, 0, 1, 1, 1, 1, 1, 1, 1,\n",
              "       1, 1, 1, 1, 1, 1, 1, 1, 1, 1, 1, 1, 1, 1, 1, 1, 1, 1, 1, 1, 1, 1,\n",
              "       1, 1, 1, 1, 1, 1, 1, 1, 1, 1, 1, 1, 1, 1, 1, 1, 1, 1, 1, 1, 1, 1,\n",
              "       1, 1, 1, 1, 1, 1, 1, 1, 1, 1, 1, 1, 1, 1, 1, 1, 1, 1, 1, 1, 2, 2,\n",
              "       2, 2, 2, 2, 2, 2, 2, 2, 2, 2, 2, 2, 2, 2, 2, 2, 2, 2, 2, 2, 2, 2,\n",
              "       2, 2, 2, 2, 2, 2, 2, 2, 2, 2, 2, 2, 2, 2, 2, 2, 2, 2, 2, 2, 2, 2,\n",
              "       2, 2])"
            ]
          },
          "metadata": {
            "tags": []
          },
          "execution_count": 102
        }
      ]
    },
    {
      "cell_type": "code",
      "metadata": {
        "colab": {
          "base_uri": "https://localhost:8080/"
        },
        "id": "evzYAB_5DCPg",
        "outputId": "e3f713a8-d48b-44ac-fd03-a087f1346922"
      },
      "source": [
        "from sklearn.model_selection import train_test_split\n",
        "X_train, X_test, Y_train, Y_test = train_test_split(X, Y, test_size = 0.2, random_state=5)\n",
        "x=X_train\n",
        "y=Y_train\n",
        "print(x.shape)\n",
        "print(y.shape)"
      ],
      "execution_count": 103,
      "outputs": [
        {
          "output_type": "stream",
          "text": [
            "(142, 13)\n",
            "(142,)\n"
          ],
          "name": "stdout"
        }
      ]
    },
    {
      "cell_type": "code",
      "metadata": {
        "id": "vh7TFww-DLCB"
      },
      "source": [
        "def NaiveBayes(x,y):\n",
        "\n",
        "  classes = np.unique(y)\n",
        "  mean = np.zeros((len(classes),x.shape[1]))\n",
        "  variance = np.zeros((len(classes),x.shape[1]))\n",
        "  prior_probabilities = np.zeros(len(classes))\n",
        "\n",
        "  for c in classes:\n",
        "    data_wrt_class = x[c == y]\n",
        "    mean[c,:] = data_wrt_class.mean(axis=0)\n",
        "    variance[c,:] = data_wrt_class.var(axis=0)\n",
        "    prior_probabilities[c] = len(data_wrt_class) / len(x)\n",
        "\n",
        "  return mean,variance,prior_probabilities,classes\n",
        "\n",
        "\n",
        "def gaussian_distribution(x_sample,mean,variance,class_num):\n",
        "\n",
        "  m = mean[class_num]\n",
        "  v = variance[class_num]\n",
        "\n",
        "  numerator = np.exp(-((x_sample - m)**2) / (2*v))\n",
        "  denominator = np.sqrt(2 *np.pi *v)\n",
        "\n",
        "  gaussian = numerator / denominator\n",
        "\n",
        "  return gaussian\n",
        "\n",
        "\n",
        "\n",
        "def predict(x,prior_probabilities,mean,variance,classes):\n",
        "\n",
        "  predictions = []\n",
        "  \n",
        "  for x_sample in x:\n",
        "\n",
        "    posterior_probablities = []\n",
        "\n",
        "    for c in classes: \n",
        "      prior =  np.log(prior_probabilities[c])\n",
        "      likelihood = np.sum(np.log(gaussian_distribution(x_sample,mean,variance,c)))\n",
        "      \n",
        "      posterior = prior + likelihood\n",
        "\n",
        "      posterior_probablities.append(posterior)\n",
        "\n",
        "    class_number = classes[np.argmax(posterior_probablities)]\n",
        "\n",
        "    predictions.append(class_number)\n",
        "\n",
        "  return predictions\n",
        "\n",
        "\n",
        "mean,variance,prior_probabilities,classes = NaiveBayes(x,y)\n",
        "y_pred = predict(x,prior_probabilities,mean,variance,classes)\n",
        "\n",
        "\n"
      ],
      "execution_count": 104,
      "outputs": []
    },
    {
      "cell_type": "code",
      "metadata": {
        "colab": {
          "base_uri": "https://localhost:8080/"
        },
        "id": "QaZcuxudLwxy",
        "outputId": "7d476c05-c25a-4097-faee-d40f62c22589"
      },
      "source": [
        "c_sum=0\n",
        "inc_sum=0\n",
        "for i in range(len(y_pred)):\n",
        "  if y_pred[i]==y[i]:\n",
        "    c_sum+=1\n",
        "  else:\n",
        "    inc_sum+=1\n",
        "print(c_sum)\n",
        "print(inc_sum)"
      ],
      "execution_count": 105,
      "outputs": [
        {
          "output_type": "stream",
          "text": [
            "141\n",
            "1\n"
          ],
          "name": "stdout"
        }
      ]
    },
    {
      "cell_type": "code",
      "metadata": {
        "id": "YGW9NIXuM8xP"
      },
      "source": [
        "def training_accuracy(y, y_pred):\n",
        "    train_accuracy = np.sum(y == y_pred) / len(y)\n",
        "    return train_accuracy"
      ],
      "execution_count": 106,
      "outputs": []
    },
    {
      "cell_type": "code",
      "metadata": {
        "colab": {
          "base_uri": "https://localhost:8080/"
        },
        "id": "Ne-GVXraNeM4",
        "outputId": "21029951-2b94-4d2f-8cd3-3c945e5fa86d"
      },
      "source": [
        "training_accuracy(y,y_pred)"
      ],
      "execution_count": 107,
      "outputs": [
        {
          "output_type": "execute_result",
          "data": {
            "text/plain": [
              "0.9929577464788732"
            ]
          },
          "metadata": {
            "tags": []
          },
          "execution_count": 107
        }
      ]
    },
    {
      "cell_type": "markdown",
      "metadata": {
        "id": "2j_PuIkTNl85"
      },
      "source": [
        "# Testing Phase"
      ]
    },
    {
      "cell_type": "code",
      "metadata": {
        "id": "MObpNtNoNgIA"
      },
      "source": [
        "y_pred_test = predict(X_test,prior_probabilities,mean,variance,classes)"
      ],
      "execution_count": 108,
      "outputs": []
    },
    {
      "cell_type": "code",
      "metadata": {
        "id": "im0LxxBzN0PK"
      },
      "source": [
        "def testing_accuracy(y_test, y_pred_test):\n",
        "    test_accuracy = np.sum(y_test == y_pred_test) / len(y_test)\n",
        "    return test_accuracy\n"
      ],
      "execution_count": 109,
      "outputs": []
    },
    {
      "cell_type": "code",
      "metadata": {
        "colab": {
          "base_uri": "https://localhost:8080/"
        },
        "id": "_m7E6_LxN2wU",
        "outputId": "b8dff383-26e7-433e-f182-a1d42fb679b6"
      },
      "source": [
        "testing_accuracy(Y_test,y_pred_test)"
      ],
      "execution_count": 110,
      "outputs": [
        {
          "output_type": "execute_result",
          "data": {
            "text/plain": [
              "0.9166666666666666"
            ]
          },
          "metadata": {
            "tags": []
          },
          "execution_count": 110
        }
      ]
    },
    {
      "cell_type": "code",
      "metadata": {
        "id": "Ac50S771W6ZE"
      },
      "source": [
        ""
      ],
      "execution_count": null,
      "outputs": []
    }
  ]
}