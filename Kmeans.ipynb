{
  "nbformat": 4,
  "nbformat_minor": 0,
  "metadata": {
    "colab": {
      "name": "Kmeans.ipynb",
      "provenance": [],
      "collapsed_sections": []
    },
    "kernelspec": {
      "name": "python3",
      "display_name": "Python 3"
    },
    "language_info": {
      "name": "python"
    }
  },
  "cells": [
    {
      "cell_type": "code",
      "metadata": {
        "id": "vmzckE_CMF_E"
      },
      "source": [
        "import matplotlib.pyplot as plt\n",
        "import numpy as np\n",
        "import pandas as pd\n",
        "import seaborn as sns"
      ],
      "execution_count": null,
      "outputs": []
    },
    {
      "cell_type": "code",
      "metadata": {
        "id": "2ss0DDTNMSOZ"
      },
      "source": [
        "from sklearn.datasets import load_wine\n",
        "X,Y=load_wine(return_X_y=True)"
      ],
      "execution_count": null,
      "outputs": []
    },
    {
      "cell_type": "code",
      "metadata": {
        "colab": {
          "base_uri": "https://localhost:8080/"
        },
        "id": "4uxx9NmQMWY9",
        "outputId": "65934483-ce0f-4e63-8528-cd6d47c8278a"
      },
      "source": [
        "print(X.shape)\n",
        "print(Y.shape)"
      ],
      "execution_count": null,
      "outputs": [
        {
          "output_type": "stream",
          "text": [
            "(178, 13)\n",
            "(178,)\n"
          ],
          "name": "stdout"
        }
      ]
    },
    {
      "cell_type": "code",
      "metadata": {
        "colab": {
          "base_uri": "https://localhost:8080/",
          "height": 424
        },
        "id": "Q8hhD7D_MoZ8",
        "outputId": "cb358635-ac07-4ee3-b312-09838593949d"
      },
      "source": [
        "pd.DataFrame(X)"
      ],
      "execution_count": null,
      "outputs": [
        {
          "output_type": "execute_result",
          "data": {
            "text/html": [
              "<div>\n",
              "<style scoped>\n",
              "    .dataframe tbody tr th:only-of-type {\n",
              "        vertical-align: middle;\n",
              "    }\n",
              "\n",
              "    .dataframe tbody tr th {\n",
              "        vertical-align: top;\n",
              "    }\n",
              "\n",
              "    .dataframe thead th {\n",
              "        text-align: right;\n",
              "    }\n",
              "</style>\n",
              "<table border=\"1\" class=\"dataframe\">\n",
              "  <thead>\n",
              "    <tr style=\"text-align: right;\">\n",
              "      <th></th>\n",
              "      <th>0</th>\n",
              "      <th>1</th>\n",
              "      <th>2</th>\n",
              "      <th>3</th>\n",
              "      <th>4</th>\n",
              "      <th>5</th>\n",
              "      <th>6</th>\n",
              "      <th>7</th>\n",
              "      <th>8</th>\n",
              "      <th>9</th>\n",
              "      <th>10</th>\n",
              "      <th>11</th>\n",
              "      <th>12</th>\n",
              "    </tr>\n",
              "  </thead>\n",
              "  <tbody>\n",
              "    <tr>\n",
              "      <th>0</th>\n",
              "      <td>14.23</td>\n",
              "      <td>1.71</td>\n",
              "      <td>2.43</td>\n",
              "      <td>15.6</td>\n",
              "      <td>127.0</td>\n",
              "      <td>2.80</td>\n",
              "      <td>3.06</td>\n",
              "      <td>0.28</td>\n",
              "      <td>2.29</td>\n",
              "      <td>5.64</td>\n",
              "      <td>1.04</td>\n",
              "      <td>3.92</td>\n",
              "      <td>1065.0</td>\n",
              "    </tr>\n",
              "    <tr>\n",
              "      <th>1</th>\n",
              "      <td>13.20</td>\n",
              "      <td>1.78</td>\n",
              "      <td>2.14</td>\n",
              "      <td>11.2</td>\n",
              "      <td>100.0</td>\n",
              "      <td>2.65</td>\n",
              "      <td>2.76</td>\n",
              "      <td>0.26</td>\n",
              "      <td>1.28</td>\n",
              "      <td>4.38</td>\n",
              "      <td>1.05</td>\n",
              "      <td>3.40</td>\n",
              "      <td>1050.0</td>\n",
              "    </tr>\n",
              "    <tr>\n",
              "      <th>2</th>\n",
              "      <td>13.16</td>\n",
              "      <td>2.36</td>\n",
              "      <td>2.67</td>\n",
              "      <td>18.6</td>\n",
              "      <td>101.0</td>\n",
              "      <td>2.80</td>\n",
              "      <td>3.24</td>\n",
              "      <td>0.30</td>\n",
              "      <td>2.81</td>\n",
              "      <td>5.68</td>\n",
              "      <td>1.03</td>\n",
              "      <td>3.17</td>\n",
              "      <td>1185.0</td>\n",
              "    </tr>\n",
              "    <tr>\n",
              "      <th>3</th>\n",
              "      <td>14.37</td>\n",
              "      <td>1.95</td>\n",
              "      <td>2.50</td>\n",
              "      <td>16.8</td>\n",
              "      <td>113.0</td>\n",
              "      <td>3.85</td>\n",
              "      <td>3.49</td>\n",
              "      <td>0.24</td>\n",
              "      <td>2.18</td>\n",
              "      <td>7.80</td>\n",
              "      <td>0.86</td>\n",
              "      <td>3.45</td>\n",
              "      <td>1480.0</td>\n",
              "    </tr>\n",
              "    <tr>\n",
              "      <th>4</th>\n",
              "      <td>13.24</td>\n",
              "      <td>2.59</td>\n",
              "      <td>2.87</td>\n",
              "      <td>21.0</td>\n",
              "      <td>118.0</td>\n",
              "      <td>2.80</td>\n",
              "      <td>2.69</td>\n",
              "      <td>0.39</td>\n",
              "      <td>1.82</td>\n",
              "      <td>4.32</td>\n",
              "      <td>1.04</td>\n",
              "      <td>2.93</td>\n",
              "      <td>735.0</td>\n",
              "    </tr>\n",
              "    <tr>\n",
              "      <th>...</th>\n",
              "      <td>...</td>\n",
              "      <td>...</td>\n",
              "      <td>...</td>\n",
              "      <td>...</td>\n",
              "      <td>...</td>\n",
              "      <td>...</td>\n",
              "      <td>...</td>\n",
              "      <td>...</td>\n",
              "      <td>...</td>\n",
              "      <td>...</td>\n",
              "      <td>...</td>\n",
              "      <td>...</td>\n",
              "      <td>...</td>\n",
              "    </tr>\n",
              "    <tr>\n",
              "      <th>173</th>\n",
              "      <td>13.71</td>\n",
              "      <td>5.65</td>\n",
              "      <td>2.45</td>\n",
              "      <td>20.5</td>\n",
              "      <td>95.0</td>\n",
              "      <td>1.68</td>\n",
              "      <td>0.61</td>\n",
              "      <td>0.52</td>\n",
              "      <td>1.06</td>\n",
              "      <td>7.70</td>\n",
              "      <td>0.64</td>\n",
              "      <td>1.74</td>\n",
              "      <td>740.0</td>\n",
              "    </tr>\n",
              "    <tr>\n",
              "      <th>174</th>\n",
              "      <td>13.40</td>\n",
              "      <td>3.91</td>\n",
              "      <td>2.48</td>\n",
              "      <td>23.0</td>\n",
              "      <td>102.0</td>\n",
              "      <td>1.80</td>\n",
              "      <td>0.75</td>\n",
              "      <td>0.43</td>\n",
              "      <td>1.41</td>\n",
              "      <td>7.30</td>\n",
              "      <td>0.70</td>\n",
              "      <td>1.56</td>\n",
              "      <td>750.0</td>\n",
              "    </tr>\n",
              "    <tr>\n",
              "      <th>175</th>\n",
              "      <td>13.27</td>\n",
              "      <td>4.28</td>\n",
              "      <td>2.26</td>\n",
              "      <td>20.0</td>\n",
              "      <td>120.0</td>\n",
              "      <td>1.59</td>\n",
              "      <td>0.69</td>\n",
              "      <td>0.43</td>\n",
              "      <td>1.35</td>\n",
              "      <td>10.20</td>\n",
              "      <td>0.59</td>\n",
              "      <td>1.56</td>\n",
              "      <td>835.0</td>\n",
              "    </tr>\n",
              "    <tr>\n",
              "      <th>176</th>\n",
              "      <td>13.17</td>\n",
              "      <td>2.59</td>\n",
              "      <td>2.37</td>\n",
              "      <td>20.0</td>\n",
              "      <td>120.0</td>\n",
              "      <td>1.65</td>\n",
              "      <td>0.68</td>\n",
              "      <td>0.53</td>\n",
              "      <td>1.46</td>\n",
              "      <td>9.30</td>\n",
              "      <td>0.60</td>\n",
              "      <td>1.62</td>\n",
              "      <td>840.0</td>\n",
              "    </tr>\n",
              "    <tr>\n",
              "      <th>177</th>\n",
              "      <td>14.13</td>\n",
              "      <td>4.10</td>\n",
              "      <td>2.74</td>\n",
              "      <td>24.5</td>\n",
              "      <td>96.0</td>\n",
              "      <td>2.05</td>\n",
              "      <td>0.76</td>\n",
              "      <td>0.56</td>\n",
              "      <td>1.35</td>\n",
              "      <td>9.20</td>\n",
              "      <td>0.61</td>\n",
              "      <td>1.60</td>\n",
              "      <td>560.0</td>\n",
              "    </tr>\n",
              "  </tbody>\n",
              "</table>\n",
              "<p>178 rows × 13 columns</p>\n",
              "</div>"
            ],
            "text/plain": [
              "        0     1     2     3      4   ...    8      9     10    11      12\n",
              "0    14.23  1.71  2.43  15.6  127.0  ...  2.29   5.64  1.04  3.92  1065.0\n",
              "1    13.20  1.78  2.14  11.2  100.0  ...  1.28   4.38  1.05  3.40  1050.0\n",
              "2    13.16  2.36  2.67  18.6  101.0  ...  2.81   5.68  1.03  3.17  1185.0\n",
              "3    14.37  1.95  2.50  16.8  113.0  ...  2.18   7.80  0.86  3.45  1480.0\n",
              "4    13.24  2.59  2.87  21.0  118.0  ...  1.82   4.32  1.04  2.93   735.0\n",
              "..     ...   ...   ...   ...    ...  ...   ...    ...   ...   ...     ...\n",
              "173  13.71  5.65  2.45  20.5   95.0  ...  1.06   7.70  0.64  1.74   740.0\n",
              "174  13.40  3.91  2.48  23.0  102.0  ...  1.41   7.30  0.70  1.56   750.0\n",
              "175  13.27  4.28  2.26  20.0  120.0  ...  1.35  10.20  0.59  1.56   835.0\n",
              "176  13.17  2.59  2.37  20.0  120.0  ...  1.46   9.30  0.60  1.62   840.0\n",
              "177  14.13  4.10  2.74  24.5   96.0  ...  1.35   9.20  0.61  1.60   560.0\n",
              "\n",
              "[178 rows x 13 columns]"
            ]
          },
          "metadata": {
            "tags": []
          },
          "execution_count": 5
        }
      ]
    },
    {
      "cell_type": "code",
      "metadata": {
        "colab": {
          "base_uri": "https://localhost:8080/"
        },
        "id": "S-gOR3uqMarL",
        "outputId": "57257f22-0dbe-46e0-a730-fb9969ad5538"
      },
      "source": [
        "Y"
      ],
      "execution_count": null,
      "outputs": [
        {
          "output_type": "execute_result",
          "data": {
            "text/plain": [
              "array([0, 0, 0, 0, 0, 0, 0, 0, 0, 0, 0, 0, 0, 0, 0, 0, 0, 0, 0, 0, 0, 0,\n",
              "       0, 0, 0, 0, 0, 0, 0, 0, 0, 0, 0, 0, 0, 0, 0, 0, 0, 0, 0, 0, 0, 0,\n",
              "       0, 0, 0, 0, 0, 0, 0, 0, 0, 0, 0, 0, 0, 0, 0, 1, 1, 1, 1, 1, 1, 1,\n",
              "       1, 1, 1, 1, 1, 1, 1, 1, 1, 1, 1, 1, 1, 1, 1, 1, 1, 1, 1, 1, 1, 1,\n",
              "       1, 1, 1, 1, 1, 1, 1, 1, 1, 1, 1, 1, 1, 1, 1, 1, 1, 1, 1, 1, 1, 1,\n",
              "       1, 1, 1, 1, 1, 1, 1, 1, 1, 1, 1, 1, 1, 1, 1, 1, 1, 1, 1, 1, 2, 2,\n",
              "       2, 2, 2, 2, 2, 2, 2, 2, 2, 2, 2, 2, 2, 2, 2, 2, 2, 2, 2, 2, 2, 2,\n",
              "       2, 2, 2, 2, 2, 2, 2, 2, 2, 2, 2, 2, 2, 2, 2, 2, 2, 2, 2, 2, 2, 2,\n",
              "       2, 2])"
            ]
          },
          "metadata": {
            "tags": []
          },
          "execution_count": 6
        }
      ]
    },
    {
      "cell_type": "code",
      "metadata": {
        "id": "ROswKvjDMzcY"
      },
      "source": [
        "def find_correlation(X):\n",
        "  correlation_matrix=np.zeros((X.shape[1],X.shape[1]))\n",
        "  mean_features=[X[:,j].sum(axis=0)/len(X) for j in range(X.shape[1])]\n",
        "  # print(mean_features)\n",
        "  \n",
        "  def correlation_calculation_formula(vecX,vecY,X_mean,Y_mean):\n",
        "    numerator=np.sum((np.array(vecX)-X_mean)*(np.array(vecY)-Y_mean))\n",
        "    denominator=np.sqrt(np.sum((np.array(vecX)-X_mean)**2) * np.sum((np.array(vecY)-Y_mean)**2))\n",
        "    correlation_coff=numerator/denominator\n",
        "    return correlation_coff\n",
        "\n",
        "  for i in range(len(correlation_matrix)):\n",
        "    for j in range(len(correlation_matrix)):\n",
        "      correlation_matrix[i][j]=correlation_calculation_formula(X[:,i],X[:,j],mean_features[i],mean_features[j])\n",
        "  # print(correlation_matrix)\n",
        "  return correlation_matrix \n",
        "\n",
        "corr_matrix=find_correlation(X)"
      ],
      "execution_count": null,
      "outputs": []
    },
    {
      "cell_type": "code",
      "metadata": {
        "colab": {
          "base_uri": "https://localhost:8080/",
          "height": 269
        },
        "id": "JFYDzPAMM1oF",
        "outputId": "7735fa57-32a9-497b-9904-70304d69424f"
      },
      "source": [
        "ax = sns.heatmap(corr_matrix , linewidth = 0.5 ,annot=False)#, cmap = 'autumn')"
      ],
      "execution_count": null,
      "outputs": [
        {
          "output_type": "display_data",
          "data": {
            "image/png": "[encoded data removed]",
            "text/plain": [
              "<Figure size 432x288 with 2 Axes>"
            ]
          },
          "metadata": {
            "tags": [],
            "needs_background": "light"
          }
        }
      ]
    },
    {
      "cell_type": "code",
      "metadata": {
        "id": "Ctaml7ZAMdMI"
      },
      "source": [
        "# def normalize(X):\n",
        "#   for i in range(0,X.shape[1]):\n",
        "#     X[:,i] = ((X[:,i] - np.mean(X[:,i]))/np.std(X[:,i]))\n",
        "#   return X\n"
      ],
      "execution_count": null,
      "outputs": []
    },
    {
      "cell_type": "code",
      "metadata": {
        "id": "fxZesrx7MlGH"
      },
      "source": [
        "# X=normalize(X)"
      ],
      "execution_count": null,
      "outputs": []
    },
    {
      "cell_type": "code",
      "metadata": {
        "colab": {
          "base_uri": "https://localhost:8080/"
        },
        "id": "3GR6gn9yMu5P",
        "outputId": "f18ec7c1-f3f0-4dd3-e79b-ef4a39d54320"
      },
      "source": [
        "from sklearn.model_selection import train_test_split\n",
        "X_train, X_test, Y_train, Y_test = train_test_split(X, Y, test_size = 0.2, random_state=5)\n",
        "x=X_train\n",
        "y=Y_train\n",
        "print(x.shape)\n",
        "print(y.shape)"
      ],
      "execution_count": null,
      "outputs": [
        {
          "output_type": "stream",
          "text": [
            "(142, 13)\n",
            "(142,)\n"
          ],
          "name": "stdout"
        }
      ]
    },
    {
      "cell_type": "code",
      "metadata": {
        "id": "zvKY8D2sawhW"
      },
      "source": [
        "# q=np.array([1,2,3,4]).reshape(2,2)\n",
        "# # w=q.reshape((2,2))\n",
        "# # print(w)\n",
        "# # print(q)\n"
      ],
      "execution_count": null,
      "outputs": []
    },
    {
      "cell_type": "code",
      "metadata": {
        "colab": {
          "base_uri": "https://localhost:8080/",
          "height": 606
        },
        "id": "wHARcpzoOaVf",
        "outputId": "83d6f4be-b1bb-4247-f920-c57e27638920"
      },
      "source": [
        "def euclidean_distance(x1,c_):\n",
        "  \n",
        "  dist = np.sqrt(np.sum((x1-c_)**2))\n",
        "\n",
        "  return dist\n",
        "\n",
        "\n",
        "\n",
        "def cluster_assignment(x,centroids):\n",
        "  \n",
        "  cluster_number = []\n",
        "  for i in x:\n",
        "    distances = []\n",
        "    for c in centroids:\n",
        "      d = euclidean_distance(i,c)\n",
        "      distances.append(d)\n",
        "    \n",
        "    cluster_number.append(distances.index(min(distances)))\n",
        "  \n",
        "  return cluster_number\n",
        "\n",
        "\n",
        "\n",
        "def centroid_updates(x,cluster_number):\n",
        "\n",
        "  cluster_numbering = np.array(cluster_number).reshape(len(cluster_number),1)\n",
        "  data_with_cluster = np.hstack((x,cluster_numbering))\n",
        "  \n",
        "  df = pd.DataFrame(data_with_cluster)\n",
        "\n",
        "  updated_centroids = []\n",
        "\n",
        "  for c_no in set(df.iloc[:,-1]):\n",
        "    \n",
        "    cluster_get_together = df[df.iloc[:,-1] == c_no][df.columns[:-1]]\n",
        "\n",
        "    cluster_mean = cluster_get_together.mean(axis=0)\n",
        "\n",
        "    updated_centroids.append(cluster_mean)\n",
        "\n",
        "  return updated_centroids\n",
        "\n",
        "def cost_function_similarities_intra_clustering(x,cluster_number):\n",
        "\n",
        "  cluster_numbering = np.array(cluster_number).reshape(len(cluster_number),1)\n",
        "  data_with_cluster = np.hstack((x,cluster_numbering))\n",
        "  \n",
        "  df = pd.DataFrame(data_with_cluster)\n",
        "\n",
        "  cost_func = []\n",
        "\n",
        "  for c_no in set(df.iloc[:,-1]):\n",
        "  \n",
        "    cluster_get_together = df[df.iloc[:,-1] == c_no][df.columns[:-1]]\n",
        "    cluster_mean = cluster_get_together.mean(axis=0)\n",
        "\n",
        "    cost_func.append(np.sum(np.sum((cluster_get_together-cluster_mean)**2)))\n",
        "\n",
        "  return cost_func\n",
        "\n",
        "\n",
        "\n",
        "# final_centroids = dict()\n",
        "\n",
        "\n",
        "# K = np.arange(1,11)\n",
        "\n",
        "# for k in K:\n",
        "\n",
        "k = 3\n",
        "\n",
        "cluster_similarities = []\n",
        "\n",
        "initial_centroids = [x[i] for i in range(k)] \n",
        "cluster_numbers_assigned = cluster_assignment(x,initial_centroids)\n",
        "\n",
        "# print(\"epoch:\",0,\" \",\"cost:\",np.mean(cost_function_similarities_intra_clustering(x,cluster_numbers_assigned)))\n",
        "cluster_similarities.append(np.mean(cost_function_similarities_intra_clustering(x,cluster_numbers_assigned)))\n",
        "\n",
        "for epoch in range(1,20):\n",
        "  \n",
        "  centroids = centroid_updates(x,cluster_numbers_assigned)\n",
        "  cluster_numbers_assigned = cluster_assignment(x,centroids)\n",
        "  cluster_similarity = np.mean(cost_function_similarities_intra_clustering(x,cluster_numbers_assigned))\n",
        "\n",
        "  cluster_similarities.append(cluster_similarity)\n",
        "\n",
        "  print(\"epoch:\",epoch,\" \",\"cost:\",cluster_similarity)\n",
        "\n",
        "epochs = np.arange(0,20)\n",
        "plt.plot(epochs,cluster_similarities)\n",
        "\n",
        "  # final_centroids[k] = centroids\n",
        "  # print(\"K:\",k,\" \",\"mean_scores:\",cluster_similarities[-1])\n",
        "    \n",
        "\n",
        "\n",
        "\n",
        "\n",
        "\n",
        "\n",
        "\n",
        "\n"
      ],
      "execution_count": null,
      "outputs": [
        {
          "output_type": "stream",
          "text": [
            "epoch: 1   cost: 606305.539492896\n",
            "epoch: 2   cost: 606305.539492896\n",
            "epoch: 3   cost: 606305.539492896\n",
            "epoch: 4   cost: 606305.539492896\n",
            "epoch: 5   cost: 606305.539492896\n",
            "epoch: 6   cost: 606305.539492896\n",
            "epoch: 7   cost: 606305.539492896\n",
            "epoch: 8   cost: 606305.539492896\n",
            "epoch: 9   cost: 606305.539492896\n",
            "epoch: 10   cost: 606305.539492896\n",
            "epoch: 11   cost: 606305.539492896\n",
            "epoch: 12   cost: 606305.539492896\n",
            "epoch: 13   cost: 606305.539492896\n",
            "epoch: 14   cost: 606305.539492896\n",
            "epoch: 15   cost: 606305.539492896\n",
            "epoch: 16   cost: 606305.539492896\n",
            "epoch: 17   cost: 606305.539492896\n",
            "epoch: 18   cost: 606305.539492896\n",
            "epoch: 19   cost: 606305.539492896\n"
          ],
          "name": "stdout"
        },
        {
          "output_type": "execute_result",
          "data": {
            "text/plain": [
              "[<matplotlib.lines.Line2D at 0x7ff688133bd0>]"
            ]
          },
          "metadata": {
            "tags": []
          },
          "execution_count": 34
        },
        {
          "output_type": "display_data",
          "data": {
            "image/png": "[encoded data removed]",
            "text/plain": [
              "<Figure size 432x288 with 1 Axes>"
            ]
          },
          "metadata": {
            "tags": [],
            "needs_background": "light"
          }
        }
      ]
    },
    {
      "cell_type": "code",
      "metadata": {
        "id": "ufcSi5bfRYq0"
      },
      "source": [
        "def predict(x_t,final_centroids):\n",
        "  predicted_cluster_number = cluster_assignment(x_t,final_centroids)\n",
        "\n",
        "  return predicted_cluster_number\n",
        "    \n"
      ],
      "execution_count": null,
      "outputs": []
    },
    {
      "cell_type": "code",
      "metadata": {
        "colab": {
          "base_uri": "https://localhost:8080/"
        },
        "id": "ekLcndM0SFzT",
        "outputId": "9bee0238-1893-4b6b-ae3d-d0e65ba2addf"
      },
      "source": [
        "predict(x,final_centroids)"
      ],
      "execution_count": null,
      "outputs": [
        {
          "output_type": "execute_result",
          "data": {
            "text/plain": [
              "[9,\n",
              " 9,\n",
              " 9,\n",
              " 9,\n",
              " 9,\n",
              " 9,\n",
              " 9,\n",
              " 9,\n",
              " 9,\n",
              " 9,\n",
              " 9,\n",
              " 9,\n",
              " 9,\n",
              " 9,\n",
              " 9,\n",
              " 9,\n",
              " 9,\n",
              " 9,\n",
              " 9,\n",
              " 9,\n",
              " 9,\n",
              " 9,\n",
              " 9,\n",
              " 9,\n",
              " 9,\n",
              " 9,\n",
              " 9,\n",
              " 9,\n",
              " 9,\n",
              " 9,\n",
              " 9,\n",
              " 9,\n",
              " 9,\n",
              " 9,\n",
              " 9,\n",
              " 9,\n",
              " 9,\n",
              " 9,\n",
              " 9,\n",
              " 9,\n",
              " 9,\n",
              " 9,\n",
              " 9,\n",
              " 9,\n",
              " 9,\n",
              " 9,\n",
              " 9,\n",
              " 9,\n",
              " 9,\n",
              " 9,\n",
              " 9,\n",
              " 9,\n",
              " 9,\n",
              " 9,\n",
              " 9,\n",
              " 9,\n",
              " 9,\n",
              " 9,\n",
              " 9,\n",
              " 9,\n",
              " 9,\n",
              " 9,\n",
              " 9,\n",
              " 9,\n",
              " 9,\n",
              " 9,\n",
              " 9,\n",
              " 9,\n",
              " 9,\n",
              " 9,\n",
              " 9,\n",
              " 9,\n",
              " 9,\n",
              " 9,\n",
              " 9,\n",
              " 9,\n",
              " 9,\n",
              " 9,\n",
              " 9,\n",
              " 9,\n",
              " 9,\n",
              " 9,\n",
              " 9,\n",
              " 9,\n",
              " 9,\n",
              " 9,\n",
              " 9,\n",
              " 9,\n",
              " 9,\n",
              " 9,\n",
              " 9,\n",
              " 9,\n",
              " 9,\n",
              " 9,\n",
              " 9,\n",
              " 9,\n",
              " 9,\n",
              " 9,\n",
              " 9,\n",
              " 9,\n",
              " 9,\n",
              " 9,\n",
              " 9,\n",
              " 9,\n",
              " 9,\n",
              " 9,\n",
              " 9,\n",
              " 9,\n",
              " 9,\n",
              " 9,\n",
              " 9,\n",
              " 9,\n",
              " 9,\n",
              " 9,\n",
              " 9,\n",
              " 9,\n",
              " 9,\n",
              " 9,\n",
              " 9,\n",
              " 9,\n",
              " 9,\n",
              " 9,\n",
              " 9,\n",
              " 9,\n",
              " 9,\n",
              " 9,\n",
              " 9,\n",
              " 9,\n",
              " 9,\n",
              " 9,\n",
              " 9,\n",
              " 9,\n",
              " 9,\n",
              " 9,\n",
              " 9,\n",
              " 9,\n",
              " 9,\n",
              " 9,\n",
              " 9,\n",
              " 9,\n",
              " 9,\n",
              " 9]"
            ]
          },
          "metadata": {
            "tags": []
          },
          "execution_count": 36
        }
      ]
    },
    {
      "cell_type": "code",
      "metadata": {
        "colab": {
          "base_uri": "https://localhost:8080/"
        },
        "id": "dgw8krkoSSlt",
        "outputId": "bc25ab21-26e4-4f27-eed2-7264492fcef6"
      },
      "source": [
        "y"
      ],
      "execution_count": null,
      "outputs": [
        {
          "output_type": "execute_result",
          "data": {
            "text/plain": [
              "array([0, 2, 2, 1, 1, 1, 2, 0, 2, 1, 0, 2, 0, 1, 0, 1, 1, 0, 2, 1, 2, 1,\n",
              "       0, 1, 1, 0, 2, 0, 1, 2, 2, 0, 0, 1, 2, 1, 1, 2, 2, 2, 1, 0, 0, 0,\n",
              "       1, 1, 0, 1, 2, 1, 0, 0, 2, 1, 0, 2, 2, 2, 1, 1, 2, 2, 2, 1, 1, 1,\n",
              "       1, 1, 2, 1, 0, 1, 1, 1, 0, 0, 1, 0, 0, 2, 2, 0, 2, 0, 2, 1, 0, 1,\n",
              "       0, 2, 1, 1, 0, 1, 1, 1, 1, 0, 1, 1, 1, 2, 2, 0, 2, 0, 1, 0, 0, 2,\n",
              "       1, 1, 2, 0, 0, 0, 2, 1, 1, 0, 1, 2, 1, 2, 1, 1, 0, 1, 0, 0, 1, 1,\n",
              "       2, 0, 2, 1, 2, 0, 1, 2, 1, 1])"
            ]
          },
          "metadata": {
            "tags": []
          },
          "execution_count": 37
        }
      ]
    },
    {
      "cell_type": "code",
      "metadata": {
        "colab": {
          "base_uri": "https://localhost:8080/"
        },
        "id": "Ewpjv3QuSVKZ",
        "outputId": "d7f8161c-3893-4fb2-bdd1-023f34d6bdcb"
      },
      "source": [
        "y_pred = predict(x,centroids)\n",
        "\n",
        "correct = 0\n",
        "incorrect = 0\n",
        "for j in range(len(y_pred)):\n",
        "  if y_pred[j] == y[j]:\n",
        "    correct+=1\n",
        "  else:\n",
        "    incorrect+=1\n",
        "\n",
        "print(correct)\n",
        "print(incorrect)\n"
      ],
      "execution_count": null,
      "outputs": [
        {
          "output_type": "stream",
          "text": [
            "101\n",
            "41\n"
          ],
          "name": "stdout"
        }
      ]
    },
    {
      "cell_type": "code",
      "metadata": {
        "id": "i1LXC0ksSsz4"
      },
      "source": [
        ""
      ],
      "execution_count": null,
      "outputs": []
    },
    {
      "cell_type": "markdown",
      "metadata": {
        "id": "yTMbql3BStiO"
      },
      "source": [
        "# Testing Phase"
      ]
    },
    {
      "cell_type": "code",
      "metadata": {
        "colab": {
          "base_uri": "https://localhost:8080/"
        },
        "id": "BqoyE68mSw9i",
        "outputId": "f81e519e-e9a2-45ce-8c26-d0f9b1d790c4"
      },
      "source": [
        "y_pred_test = predict(X_test,centroids)\n",
        "\n",
        "correct = 0\n",
        "incorrect = 0\n",
        "for j in range(len(y_pred_test)):\n",
        "  if y_pred_test[j] == Y_test[j]:\n",
        "    correct+=1\n",
        "  else:\n",
        "    incorrect+=1\n",
        "\n",
        "print(correct)\n",
        "print(incorrect)\n"
      ],
      "execution_count": null,
      "outputs": [
        {
          "output_type": "stream",
          "text": [
            "25\n",
            "11\n"
          ],
          "name": "stdout"
        }
      ]
    },
    {
      "cell_type": "code",
      "metadata": {
        "id": "dk7NCAJyesmq"
      },
      "source": [
        ""
      ],
      "execution_count": null,
      "outputs": []
    }
  ]
}